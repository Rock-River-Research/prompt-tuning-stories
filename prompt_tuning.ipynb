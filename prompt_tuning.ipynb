{
 "cells": [
  {
   "cell_type": "code",
   "execution_count": 1,
   "id": "f4f2aa18-0629-4689-a099-8378da7c6f0c",
   "metadata": {
    "tags": []
   },
   "outputs": [
    {
     "name": "stdout",
     "output_type": "stream",
     "text": [
      "3.9.16 | packaged by conda-forge | (main, Feb  1 2023, 21:38:11) \n",
      "[Clang 14.0.6 ]\n"
     ]
    }
   ],
   "source": [
    "# use svg graphics, display inline\n",
    "%matplotlib inline\n",
    "%config InlineBackend.figure_format = 'svg'\n",
    "\n",
    "import glob\n",
    "import re\n",
    "import copy\n",
    "import sys\n",
    "\n",
    "# basic scientific computing imports\n",
    "import numpy as np\n",
    "import pandas as pd\n",
    "import matplotlib.pyplot as plt\n",
    "import statsmodels.formula.api as smf\n",
    "from sparklines import sparklines\n",
    "\n",
    "# chatbot\n",
    "from langchain.prompts import PromptTemplate\n",
    "from langchain.llms import OpenAI\n",
    "from langchain.chat_models import ChatOpenAI\n",
    "from langchain.chains import LLMChain, SimpleSequentialChain, SequentialChain, SQLDatabaseChain\n",
    "from langchain.utilities import PythonREPL\n",
    "import openai\n",
    "from seaborn.utils import load_dataset\n",
    "\n",
    "from tqdm.notebook import trange, tqdm\n",
    "\n",
    "# hex colors for plotting\n",
    "SOFT_PURPLE = '#8565C4'\n",
    "SOFT_RED = '#C23F38'\n",
    "SOFT_GREEN = '#56B000'\n",
    "NEUTRAL_GREY = '#A9A9A9'\n",
    "\n",
    "# display config\n",
    "pd.set_option('display.float_format', lambda x: '%.3f' % x)\n",
    "plt.rcParams['figure.figsize'] = 6, 4\n",
    "plt.style.use('ggplot')\n",
    "np.set_printoptions(suppress=True)\n",
    "np.random.seed(42)\n",
    "\n",
    "print(sys.version)"
   ]
  },
  {
   "cell_type": "code",
   "execution_count": null,
   "id": "73629afd-2a54-4678-9803-2479c816c7c4",
   "metadata": {
    "tags": []
   },
   "outputs": [],
   "source": [
    "def print_first_and_best(df):\n",
    "    \n",
    "    best_row_number = pd.to_numeric(df.iloc[1:].rating, errors='coerce').idxmax() + 1\n",
    "    best_row = df.iloc[1:].sort_values('rating', ascending=False).iloc[0]   # can't be the first one\n",
    "    \n",
    "    print(f\"First Story\\n\\nPrompt: {df.iloc[0]['prompt']}\\n\\nStory: {df.iloc[0]['story']}\")\n",
    "    print('\\n###########\\n')\n",
    "    print(f\"Best ({best_row_number + 1}) Story\\n\\nPrompt: {best_row['prompt']}\\n\\nStory: {best_row['story']}\")"
   ]
  },
  {
   "cell_type": "markdown",
   "id": "25e2ca14-6769-45f0-813d-5427d56c959e",
   "metadata": {},
   "source": [
    "# Define models, prompts, and pipeline"
   ]
  },
  {
   "cell_type": "code",
   "execution_count": 21,
   "id": "5b818d65-75a4-4bbf-9b70-2995fbb73042",
   "metadata": {
    "tags": []
   },
   "outputs": [],
   "source": [
    "llm_language = ChatOpenAI(\n",
    "    model_name='gpt-3.5-turbo', \n",
    "    temperature=0.3, \n",
    "    max_tokens = 2048\n",
    ")\n",
    "\n",
    "prompt_generator_prompt = PromptTemplate(\n",
    "    input_variables=['task'],\n",
    "    template='''\n",
    "Context:\n",
    "An AI model must be correctly prompted to generate high quality output. \n",
    "\n",
    "Your job is to generate a prompt for the following task: {task}\n",
    "\n",
    "Generated prompt:\n",
    "'''\n",
    ")\n",
    "\n",
    "story_generator_prompt = PromptTemplate(\n",
    "    input_variables=['prompt'],\n",
    "    template='{prompt}'\n",
    ")\n",
    "\n",
    "rater_prompt = PromptTemplate(\n",
    "    input_variables=['story', 'optimize_for'],\n",
    "    template='''\n",
    "Rate the following story on a scale from 1-100. The rating should reflect the story's {optimize_for}.\n",
    "After giving the story a numerical rating, give a brief suggestion for what could make it better. The output should be in the form <rating>: <suggestions>\n",
    "\n",
    "Story:\n",
    "{story}\n",
    "\n",
    "Rating and suggestions:\n",
    "'''\n",
    ")\n",
    "\n",
    "new_prompt_from_feedback_prompt = PromptTemplate(\n",
    "    input_variables=['task', 'prompt', 'rating', 'suggestions', 'optimize_for'],\n",
    "    template='''\n",
    "Context:\n",
    "An AI model must be correctly prompted to generate high quality output. \n",
    "\n",
    "Your job is to generate a prompt for the following task: {task}\n",
    "\n",
    "Below is a prompt that generated story with a score of {rating} in terms of {optimize_for}. We want to make it a 100:\n",
    "{prompt}\n",
    "\n",
    "Here is a suggestion to make it better:\n",
    "{suggestions}\n",
    "\n",
    "Incorporate this feedback into a new prompt to encourage the AI to write better story. Be sure to keep your feedback concise, really focus on 2-3 key suggestions. If the last story was rated 100, make it a little bit better.\n",
    "\n",
    "New prompt:\n",
    "'''\n",
    ")"
   ]
  },
  {
   "cell_type": "code",
   "execution_count": 48,
   "id": "f2f04120-ed51-4ffd-ac57-728c13155344",
   "metadata": {
    "tags": []
   },
   "outputs": [],
   "source": [
    "def generate_stories(initial_input, optimize_for, llm, n_iterations=5):\n",
    "\n",
    "    data = []\n",
    "    prompt = initial_input\n",
    "    \n",
    "    story_chain = LLMChain(llm=llm, prompt=story_generator_prompt)\n",
    "    judge_chain = LLMChain(llm=llm, prompt=rater_prompt)\n",
    "    new_prompt_chain = LLMChain(llm=llm, prompt=new_prompt_from_feedback_prompt)\n",
    "    \n",
    "    for i in trange(n_iterations):   # trange just adds a little progress bar\n",
    "        story = story_chain.run(prompt)\n",
    "\n",
    "        rating = judge_chain.run({\n",
    "            'story': story, \n",
    "            'optimize_for': optimize_for\n",
    "        })\n",
    "\n",
    "        # extract the rating and suggestions\n",
    "        # might not need to parse the string, just feed the response to the rewriter\n",
    "        numerical_rating, suggestions = rating.split(': ', 1)\n",
    "\n",
    "        # log the results\n",
    "        data.append({\n",
    "            'task': initial_input, \n",
    "            'prompt': prompt,\n",
    "            'story': story,\n",
    "            'rating': numerical_rating, \n",
    "            'suggestions': suggestions,\n",
    "        })\n",
    "\n",
    "        prompt = new_prompt_chain.run({\n",
    "            'task': initial_input, \n",
    "            'prompt': prompt, \n",
    "            'rating': numerical_rating, \n",
    "            'suggestions': suggestions,\n",
    "            'optimize_for': optimize_for\n",
    "        })\n",
    "\n",
    "    return pd.DataFrame(data)"
   ]
  },
  {
   "cell_type": "markdown",
   "id": "45d26a93-141c-4ab6-930b-64bfbe434361",
   "metadata": {},
   "source": [
    "# Scary Story"
   ]
  },
  {
   "cell_type": "code",
   "execution_count": 31,
   "id": "23fda3c9-c880-4454-ad4c-2a1f813b5ae5",
   "metadata": {
    "tags": []
   },
   "outputs": [
    {
     "data": {
      "application/vnd.jupyter.widget-view+json": {
       "model_id": "b0e5afed327f4875881ee4ca3a7084a6",
       "version_major": 2,
       "version_minor": 0
      },
      "text/plain": [
       "  0%|          | 0/10 [00:00<?, ?it/s]"
      ]
     },
     "metadata": {},
     "output_type": "display_data"
    },
    {
     "name": "stderr",
     "output_type": "stream",
     "text": [
      "Retrying langchain.chat_models.openai.ChatOpenAI.completion_with_retry.<locals>._completion_with_retry in 4.0 seconds as it raised APIConnectionError: Error communicating with OpenAI: ('Connection aborted.', ConnectionResetError(54, 'Connection reset by peer')).\n"
     ]
    },
    {
     "name": "stdout",
     "output_type": "stream",
     "text": [
      "First Story\n",
      "\n",
      "Prompt: Write a scary story. Be sure to specify that the story should be no longer than 10 sentences\n",
      "\n",
      "Story: As an AI language model, I am not capable of experiencing emotions such as fear. However, I can generate a scary story for you. Here it is:\n",
      "\n",
      "The old abandoned house at the end of the street had always been a source of curiosity for the neighborhood kids. One day, a group of them decided to explore it. As they entered, they heard strange noises coming from upstairs. They cautiously climbed the stairs, only to find a room with a single chair facing a wall. Suddenly, the door slammed shut behind them, and they were trapped. The chair slowly turned around, revealing a ghostly figure with glowing eyes. The kids screamed and tried to escape, but the door wouldn't budge. The ghostly figure approached them, and they could feel its icy breath on their faces. Just as they thought it was all over, the figure disappeared, and the door opened. The kids ran out of the house, never to return again.\n",
      "\n",
      "###########\n",
      "\n",
      "Best (6) Story\n",
      "\n",
      "Prompt: Write a spine-chilling story that will leave the reader on edge. Keep it to 10 sentences or less, but focus on developing the cursed object and haunted mansion with vivid descriptions and eerie details. Build up the suspense and explore the protagonist's emotions and thoughts as they confront their fears. Make the ending truly unpredictable, but provide more explanation to make it unforgettable. Remember to avoid rushing the conclusion and leave the reader with a haunting feeling long after they finish reading.\n",
      "\n",
      "Story: As soon as I entered the mansion, I felt a chill run down my spine. The air was thick with the scent of decay and the walls were covered in cobwebs. I was there to retrieve a cursed object, but I couldn't shake the feeling that something was watching me. I made my way through the dark corridors, my heart pounding with every step. When I finally found the object, it was surrounded by a strange aura that made my skin crawl. As I reached out to grab it, I heard a voice whisper in my ear, \"You shouldn't have come here.\" Suddenly, the room was filled with a blinding light and I was thrown across the room. When I woke up, I was outside the mansion, the cursed object nowhere in sight. I never went back, but the memory of that haunted mansion still haunts me to this day.\n"
     ]
    }
   ],
   "source": [
    "initial_input = 'Write a scary story. Be sure to specify that the story should be no longer than 10 sentences'\n",
    "optimize_for = 'scariness, surprise, literary quality'\n",
    "\n",
    "df_scary_stories = generate_stories(\n",
    "    initial_input=initial_input,\n",
    "    optimize_for=optimize_for,\n",
    "    llm=llm_language,\n",
    "    n_iterations=10\n",
    ")\n",
    "\n",
    "print_first_and_best(df_scary_stories)"
   ]
  },
  {
   "cell_type": "markdown",
   "id": "c43e9f26-eaba-4ee1-8881-33ec1ad876f8",
   "metadata": {},
   "source": [
    "# Les Mis"
   ]
  },
  {
   "cell_type": "code",
   "execution_count": 45,
   "id": "4c0ca840-74f9-4b4b-87ad-0edd1ee9d202",
   "metadata": {
    "tags": []
   },
   "outputs": [
    {
     "data": {
      "application/vnd.jupyter.widget-view+json": {
       "model_id": "cd0a2d52e4544cc29ebaa7dcd644847b",
       "version_major": 2,
       "version_minor": 0
      },
      "text/plain": [
       "  0%|          | 0/10 [00:00<?, ?it/s]"
      ]
     },
     "metadata": {},
     "output_type": "display_data"
    },
    {
     "name": "stdout",
     "output_type": "stream",
     "text": [
      "First Story\n",
      "\n",
      "Prompt: A French man spends 10 years and prison. Upen getting released, he has an experience that makes him believe in redemption\n",
      "\n",
      "Story: .\n",
      "\n",
      "After spending a decade in prison, the French man was finally released. He had lost all hope of ever being able to live a normal life again. He had committed a crime in his youth and had paid the price for it. But now, he was a changed man. He had spent years reflecting on his actions and had come to the realization that he needed to make amends for what he had done.\n",
      "\n",
      "As he walked out of the prison gates, he felt a sense of freedom that he had never experienced before. He knew that he had a long road ahead of him, but he was determined to make the most of his second chance.\n",
      "\n",
      "The first few weeks were difficult. He struggled to find a job and to adjust to life outside of prison. But then, something amazing happened. He met a group of people who were dedicated to helping ex-convicts reintegrate into society. They offered him a job and a place to stay, and they showed him that there was still hope for him.\n",
      "\n",
      "Over time, the French man began to rebuild his life. He worked hard, saved money, and even started a family. He realized that he had a purpose in life, and that purpose was to help others who had been in his situation.\n",
      "\n",
      "Looking back on his time in prison, the French man realized that it had been a blessing in disguise. It had given him the opportunity to reflect on his life and to make a change for the better. He had learned that redemption was possible, and that everyone deserved a second chance.\n",
      "\n",
      "###########\n",
      "\n",
      "Best (3) Story\n",
      "\n",
      "Prompt: Write a compelling story about Jean-Pierre, a French man who spends a decade in prison and is released, only to have an experience that changes his perspective on life. Use vivid and descriptive language to transport the reader to the streets of Paris and fully immerse them in the setting. Focus on portraying the emotions of the protagonist as he navigates his newfound freedom and redemption, exploring themes of forgiveness and second chances. Consider incorporating sensory details to elevate the literary quality of the story and make it a truly immersive experience for the reader.\n",
      "\n",
      "Story: Jean-Pierre had spent a decade in prison, locked away from the world. His days were filled with monotony, and his nights were filled with the sounds of other inmates' nightmares. He had been sentenced for a crime he didn't commit, but he had no way to prove his innocence. So, he served his time, day by day, until the day he was finally released.\n",
      "\n",
      "As he stepped out of the prison gates, he felt the sun on his face for the first time in years. He took a deep breath of fresh air and looked around. The world had changed so much since he had been locked away. The streets were filled with people rushing to and fro, and the sounds of cars and buses filled the air. Jean-Pierre felt overwhelmed, but he was determined to make the most of his newfound freedom.\n",
      "\n",
      "He wandered the streets of Paris, taking in the sights and sounds. He saw the Eiffel Tower in the distance, and he felt a sense of awe. He had never seen it before, and it was even more beautiful than he had imagined. He walked down the Champs-Élysées, taking in the sights of the luxury shops and the fancy cars. He felt like he was in a dream.\n",
      "\n",
      "As he walked, he saw a woman sitting on the sidewalk, holding out a cup for spare change. Jean-Pierre felt a pang of guilt. He had spent years in prison, while others had been struggling to survive on the streets. He walked over to the woman and dropped a few coins into her cup. She looked up at him and smiled, and Jean-Pierre felt a sense of warmth in his chest.\n",
      "\n",
      "That encounter changed everything for Jean-Pierre. He realized that he had been so focused on his own problems that he had forgotten about the struggles of others. He began to volunteer at a local soup kitchen, serving meals to those in need. He made friends with the other volunteers, and he felt like he was finally a part of something bigger than himself.\n",
      "\n",
      "As the years went by, Jean-Pierre became known in the community as a kind and generous man. He had found redemption in the most unexpected place, and he was grateful for the second chance he had been given. He knew that he could never make up for the years he had lost, but he could make a difference in the lives of others.\n",
      "\n",
      "Jean-Pierre's story is a reminder that forgiveness and second chances are possible, even in the darkest of places. It's a story of redemption and hope, and it's a testament to the power of the human spirit.\n"
     ]
    }
   ],
   "source": [
    "initial_input = 'A French man spends 10 years and prison. Upen getting released, he has an experience that makes him believe in redemption'\n",
    "optimize_for = 'beauty, emotion, and literary quality'\n",
    "\n",
    "df_les_mis = generate_stories(\n",
    "    initial_input=initial_input,\n",
    "    optimize_for=optimize_for,\n",
    "    llm=llm_language,\n",
    "    n_iterations=10\n",
    ")\n",
    "\n",
    "print_first_and_best(df_les_mis)"
   ]
  },
  {
   "cell_type": "markdown",
   "id": "6046382e-d588-4d87-b890-0adde8e069da",
   "metadata": {},
   "source": [
    "# Beautiful Entrance"
   ]
  },
  {
   "cell_type": "code",
   "execution_count": 50,
   "id": "917b5227-3640-4394-9377-afe126721ef4",
   "metadata": {
    "tags": []
   },
   "outputs": [
    {
     "data": {
      "application/vnd.jupyter.widget-view+json": {
       "model_id": "e3c57778abf34ac7935b0b4548103fa7",
       "version_major": 2,
       "version_minor": 0
      },
      "text/plain": [
       "  0%|          | 0/10 [00:00<?, ?it/s]"
      ]
     },
     "metadata": {},
     "output_type": "display_data"
    },
    {
     "name": "stdout",
     "output_type": "stream",
     "text": [
      "First Story\n",
      "\n",
      "Prompt: A beautiful woman stumbles into her physics lecture late on a rainy day. A young man notices her and has an idea.\n",
      "\n",
      "Story: As the beautiful woman stumbled into the physics lecture, the young man couldn't help but notice her. Her hair was drenched from the rain, and her clothes clung to her curves in all the right places. He couldn't take his eyes off her.\n",
      "\n",
      "Suddenly, an idea struck him. He quickly scribbled a note on a piece of paper and passed it to the woman as she sat down.\n",
      "\n",
      "The woman looked at the note and smiled. It read, \"I couldn't help but notice how beautiful you are. Would you like to grab a coffee with me after class?\"\n",
      "\n",
      "The woman nodded and passed the note back to the young man. He grinned from ear to ear, feeling a rush of excitement.\n",
      "\n",
      "As the lecture went on, the young man couldn't concentrate on anything the professor was saying. He was too busy thinking about the beautiful woman sitting next to him and the coffee date they had planned.\n",
      "\n",
      "Finally, the lecture ended, and the young man turned to the woman. \"Shall we go?\" he asked, holding out his hand.\n",
      "\n",
      "The woman took his hand, and they walked out of the lecture hall together, the rain still pouring down around them. They chatted and laughed as they made their way to the coffee shop, both feeling a spark of attraction between them.\n",
      "\n",
      "As they sat down with their coffees, the young man couldn't believe his luck. He had never felt such a strong connection with someone before.\n",
      "\n",
      "And as they talked and laughed together, he knew that this was just the beginning of something special.\n",
      "\n",
      "###########\n",
      "\n",
      "Best (7) Story\n",
      "\n",
      "Prompt: Create a story about a woman named Sarah who arrives late to her physics lecture on a rainy day. Use sensory details to vividly describe the rain-soaked setting and the characters' surroundings, making the rain a metaphor for the chance encounter that brings Sarah and Alex together. Develop the characters' backgrounds and experiences to add complexity to the story and explore themes of self-discovery and personal growth. Show the reader how Alex's attraction to Sarah grows throughout their conversation, leading to a memorable moment between them that leaves the reader feeling a sense of hope and possibility. To enhance the emotional resonance of the story, focus on deepening the character development and exploring their past experiences. Additionally, consider adding more description and sensory details to further immerse the reader in the setting and the characters' emotions.\n",
      "\n",
      "Story: Sarah had always been a punctual person, but today was different. She had woken up feeling groggy and unmotivated, and the rain outside only made things worse. She had to force herself out of bed and into the shower, and by the time she was dressed and ready to leave, she was already running late.\n",
      "\n",
      "The rain was coming down in sheets as she walked to her physics lecture, her umbrella barely keeping her dry. The streets were slick with water, and the sound of raindrops hitting the pavement was deafening. Sarah's shoes squelched with every step, and she could feel the water seeping through her socks.\n",
      "\n",
      "When she finally arrived at the lecture hall, she was out of breath and soaked to the bone. The room was already full, and the only seat left was in the front row. She took a deep breath and made her way to the seat, feeling self-conscious as she walked past the other students.\n",
      "\n",
      "As the lecture began, Sarah struggled to focus. Her mind kept wandering, and she found herself staring out the window at the rain. It was as if the world outside was a reflection of her own inner turmoil.\n",
      "\n",
      "That's when she noticed him. A young man sitting a few rows over, his eyes fixed on the professor. He was tall and lean, with messy brown hair and a scruffy beard. Sarah couldn't help but feel drawn to him, even though she didn't know why.\n",
      "\n",
      "As the lecture went on, Sarah found herself stealing glances at the young man. She noticed the way his eyes crinkled when he smiled, and the way his hands fidgeted with his pen. She wondered what his name was, and what he was thinking about.\n",
      "\n",
      "Finally, as the lecture was winding down, the young man turned to her and smiled. \"Hey,\" he said. \"I'm Alex.\"\n",
      "\n",
      "Sarah felt her heart skip a beat. \"Hi,\" she said, feeling suddenly shy.\n",
      "\n",
      "They struck up a conversation, talking about the lecture and their shared interest in physics. Sarah found herself opening up to Alex, telling him things she had never told anyone before. She talked about her struggles with anxiety and depression, and how she had always felt like an outsider.\n",
      "\n",
      "Alex listened intently, nodding along and offering words of encouragement. Sarah felt a warmth spreading through her chest, a feeling she hadn't felt in a long time.\n",
      "\n",
      "As the lecture ended, Alex turned to her and said, \"Hey, do you want to grab a coffee with me?\"\n",
      "\n",
      "Sarah felt a surge of excitement. \"Yes,\" she said, smiling.\n",
      "\n",
      "They walked out of the lecture hall together, the rain still falling around them. Sarah felt a sense of hope and possibility, as if the rain was a metaphor for the chance encounter that had brought her and Alex together.\n",
      "\n",
      "As they sat in the coffee shop, sipping their drinks and talking, Sarah felt a connection growing between them. She felt like she had found someone who understood her, someone who saw her for who she really was.\n",
      "\n",
      "And as they said goodbye, Sarah felt a sense of gratitude. Gratitude for the rain that had brought her to that lecture hall, and gratitude for the chance encounter that had changed her life.\n"
     ]
    }
   ],
   "source": [
    "initial_input = 'A beautiful woman stumbles into her physics lecture late on a rainy day. A young man notices her and has an idea.'\n",
    "optimize_for = 'subtle beauty, emotion, story arc'\n",
    "\n",
    "df_beautiful_entrance = generate_stories(\n",
    "    initial_input=initial_input,\n",
    "    optimize_for=optimize_for,\n",
    "    llm=llm_language,\n",
    "    n_iterations=10\n",
    ")\n",
    "\n",
    "print_first_and_best(df_beautiful_entrance)"
   ]
  }
 ],
 "metadata": {
  "kernelspec": {
   "display_name": "Python 3 (ipykernel)",
   "language": "python",
   "name": "python3"
  },
  "language_info": {
   "codemirror_mode": {
    "name": "ipython",
    "version": 3
   },
   "file_extension": ".py",
   "mimetype": "text/x-python",
   "name": "python",
   "nbconvert_exporter": "python",
   "pygments_lexer": "ipython3",
   "version": "3.9.16"
  }
 },
 "nbformat": 4,
 "nbformat_minor": 5
}
